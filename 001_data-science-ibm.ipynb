{
    "cells": [
        {
            "metadata": {
                "collapsed": true
            },
            "cell_type": "markdown",
            "source": "# My Jupyter Notebook on IBM Watson Studio"
        },
        {
            "metadata": {},
            "cell_type": "markdown",
            "source": "#### Ramazan Turkmen"
        },
        {
            "metadata": {},
            "cell_type": "markdown",
            "source": "100% Human"
        },
        {
            "metadata": {},
            "cell_type": "markdown",
            "source": "*I am interested in data science because I love to gain insights from data.*"
        },
        {
            "metadata": {},
            "cell_type": "markdown",
            "source": "### The following code tests the Gauss formula"
        },
        {
            "metadata": {},
            "cell_type": "code",
            "source": "def gauss(n):\n    return (n*(n+1))/2\n\ngauss(100) == sum(range(101))",
            "execution_count": 2,
            "outputs": [
                {
                    "output_type": "execute_result",
                    "execution_count": 2,
                    "data": {
                        "text/plain": "True"
                    },
                    "metadata": {}
                }
            ]
        },
        {
            "metadata": {},
            "cell_type": "markdown",
            "source": "---"
        },
        {
            "metadata": {},
            "cell_type": "markdown",
            "source": "* one\n* two\n* three \n* one\n* two\n* three"
        },
        {
            "metadata": {},
            "cell_type": "markdown",
            "source": "Markdown | Less | Pretty\n--- | --- | ---\n*Still* | `renders` | **nicely**\n1 | 2 | 3"
        },
        {
            "metadata": {},
            "cell_type": "markdown",
            "source": " [www.ibm.com](#section-title) "
        }
    ],
    "metadata": {
        "kernelspec": {
            "name": "python3",
            "display_name": "Python 3.7",
            "language": "python"
        },
        "language_info": {
            "name": "python",
            "version": "3.7.10",
            "mimetype": "text/x-python",
            "codemirror_mode": {
                "name": "ipython",
                "version": 3
            },
            "pygments_lexer": "ipython3",
            "nbconvert_exporter": "python",
            "file_extension": ".py"
        }
    },
    "nbformat": 4,
    "nbformat_minor": 1
}