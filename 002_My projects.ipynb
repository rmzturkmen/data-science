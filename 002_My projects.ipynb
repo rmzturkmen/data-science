{
 "cells": [
  {
   "cell_type": "markdown",
   "metadata": {
    "collapsed": true
   },
   "source": [
    "# My Jupyter Notebook on IBM Watson Studio"
   ]
  },
  {
   "cell_type": "markdown",
   "metadata": {},
   "source": [
    "#### Ramazan Turkmen"
   ]
  },
  {
   "cell_type": "markdown",
   "metadata": {},
   "source": [
    "*I am interested in data science because the work to be done in this field allows decision-makers to make the right decision.*"
   ]
  },
  {
   "cell_type": "markdown",
   "metadata": {},
   "source": [
    "### The following code tests the risk situation related to covid-19."
   ]
  },
  {
   "cell_type": "code",
   "execution_count": 1,
   "metadata": {},
   "outputs": [
    {
     "name": "stdout",
     "output_type": "stream",
     "text": [
      "Are you a cigarette addict older than 75 years old? (Yes/No) No\n",
      "Do you have a severe chronic disease? (Yes/No) No\n",
      "Is your immune system too weak? (Yes/No) Yes\n",
      "You are in risky group.\n"
     ]
    }
   ],
   "source": [
    "# Covid-19\n",
    "\n",
    "age = input(\"Are you a cigarette addict older than 75 years old? (Yes/No) \")\n",
    "\n",
    "chronic = input(\"Do you have a severe chronic disease? (Yes/No) \")\n",
    "\n",
    "immune = input(\"Is your immune system too weak? (Yes/No) \")\n",
    "\n",
    "antwoord1 = \"Yes\"\n",
    "\n",
    "antwoord2 = \"No\"\n",
    "\n",
    "if age == antwoord1 or chronic == antwoord1 or immune == antwoord1:\n",
    "    print(\"You are in risky group.\")\n",
    "\n",
    "else: \n",
    "    print(\"You are not in risky group.\")"
   ]
  },
  {
   "cell_type": "markdown",
   "metadata": {},
   "source": [
    "---"
   ]
  },
  {
   "cell_type": "markdown",
   "metadata": {},
   "source": [
    "![alt text]( https://s3.amazonaws.com/coursera_assets/meta_images/generated/XDP/XDP~SPECIALIZATION!~ibm-data-science/XDP~SPECIALIZATION!~ibm-data-science.jpeg \"IBM Data Science\")"
   ]
  },
  {
   "cell_type": "markdown",
   "metadata": {},
   "source": [
    "Markdown | Less | Pretty\n",
    "--- | --- | ---\n",
    "*Still* | `renders` | **nicely**\n",
    "1 | 2 | 3"
   ]
  },
  {
   "cell_type": "markdown",
   "metadata": {},
   "source": [
    " [www.ibm.com](#section-title) "
   ]
  }
 ],
 "metadata": {
  "kernelspec": {
   "display_name": "Python 3.7",
   "language": "python",
   "name": "python3"
  },
  "language_info": {
   "codemirror_mode": {
    "name": "ipython",
    "version": 3
   },
   "file_extension": ".py",
   "mimetype": "text/x-python",
   "name": "python",
   "nbconvert_exporter": "python",
   "pygments_lexer": "ipython3",
   "version": "3.7.10"
  }
 },
 "nbformat": 4,
 "nbformat_minor": 1
}
